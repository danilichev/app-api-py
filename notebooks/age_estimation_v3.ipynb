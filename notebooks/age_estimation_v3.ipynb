{
 "cells": [
  {
   "cell_type": "code",
   "execution_count": null,
   "metadata": {},
   "outputs": [],
   "source": [
    "from PIL import Image\n",
    "from torch import nn\n",
    "from torch.utils.data import DataLoader, Dataset, random_split\n",
    "from torchvision import models, transforms\n",
    "from tqdm.notebook import trange\n",
    "import matplotlib.pyplot as plt\n",
    "import numpy as np\n",
    "import os\n",
    "import time\n",
    "import torch\n",
    "\n",
    "from src.utils.model_trainer import ModelTrainer"
   ]
  },
  {
   "cell_type": "code",
   "execution_count": null,
   "metadata": {},
   "outputs": [],
   "source": [
    "gpu_indx = 0\n",
    "device = torch.device(gpu_indx if torch.cuda.is_available() else 'cpu')\n",
    "\n",
    "num_workers = 0 if os.name == 'nt' else 4"
   ]
  },
  {
   "cell_type": "code",
   "execution_count": null,
   "metadata": {},
   "outputs": [],
   "source": [
    "batch_size = 64\n",
    "dataset_path = '../temp/utkcropped'\n",
    "image_size = 200\n",
    "learning_rate = 1e-4\n",
    "num_epochs = 10\n",
    "start_epoch = 0"
   ]
  },
  {
   "cell_type": "code",
   "execution_count": null,
   "metadata": {},
   "outputs": [],
   "source": [
    "class UTKFaceDataset(Dataset):\n",
    "    def __init__(self, directory, max_age, transform=transforms.ToTensor):\n",
    "        self.directory = directory\n",
    "        self.max_age = max_age\n",
    "        self.transform = transform\n",
    "\n",
    "        self.images = self.get_images(directory, max_age)\n",
    "        self.ages = self.get_ages(self.images)\n",
    "\n",
    "    def __len__(self):\n",
    "        return len(self.images)\n",
    "\n",
    "    def __getitem__(self, idx):\n",
    "        img_name = os.path.join(self.directory, self.images[idx])\n",
    "        image = Image.open(img_name)\n",
    "        image = image.convert('RGB')\n",
    "        image = self.transform(image)\n",
    "\n",
    "        age = torch.tensor(self.get_age_from_file_name(self.images[idx]), dtype=torch.int64)\n",
    "        \n",
    "        return image, age\n",
    "    \n",
    "    def check_is_image(file_name):\n",
    "        return file_name.endswith('.jpg')\n",
    "    \n",
    "    def get_age_from_file_name(self, file_name):\n",
    "        return int(file_name.split('_')[0])\n",
    "\n",
    "    def get_images(self, directory, max_age):\n",
    "        images = []\n",
    "        for file in os.listdir(directory):\n",
    "            if file.endswith('.jpg') and self.get_age_from_file_name(file) <= max_age:\n",
    "                images.append(file)\n",
    "        return images\n",
    "    \n",
    "    def get_ages(self, images):\n",
    "        all_ages = [self.get_age_from_file_name(file_name) for file_name in images]\n",
    "        unique_ages = set(all_ages)\n",
    "        return sorted(list(unique_ages))\n"
   ]
  },
  {
   "cell_type": "code",
   "execution_count": null,
   "metadata": {},
   "outputs": [],
   "source": [
    "# def get_mean_std(loader):\n",
    "#     num_pixels = 0\n",
    "#     mean = 0.0\n",
    "#     std = 0.0\n",
    "#     for images, _ in loader:\n",
    "#         batch_size, num_channels, height, width = images.shape\n",
    "#         num_pixels += batch_size * height * width\n",
    "#         mean += images.mean(axis=(0, 2, 3)).sum()\n",
    "#         std += images.std(axis=(0, 2, 3)).sum()\n",
    "\n",
    "#     mean /= num_pixels\n",
    "#     std /= num_pixels\n",
    "\n",
    "#     return mean, std\n",
    "\n",
    "# base_dataset = UTKFaceDataset(dataset_path, 90, transform=transforms.Compose([\n",
    "#     transforms.Resize(image_size),\n",
    "#     transforms.ToTensor(),\n",
    "# ]))\n",
    "\n",
    "# loader = torch.utils.data.DataLoader(base_dataset, batch_size=batch_size, shuffle=True)\n",
    "# mean, std = get_mean_std(loader)\n",
    "\n",
    "# print(mean, std)"
   ]
  },
  {
   "cell_type": "code",
   "execution_count": null,
   "metadata": {},
   "outputs": [],
   "source": [
    "# def calculate_mean_std(loader):\n",
    "#     channels_sum, channels_squared_sum, num_batches = 0, 0, 0\n",
    "    \n",
    "#     for data, _ in loader:\n",
    "#         # Rearrange batch to be the shape of [B, C, W * H]\n",
    "#         data = data.view(data.size(0), data.size(1), -1)\n",
    "#         # Update total sum and squared sum for each channel\n",
    "#         channels_sum += torch.mean(data, dim=[0, 2])\n",
    "#         channels_squared_sum += torch.mean(data**2, dim=[0, 2])\n",
    "#         num_batches += 1\n",
    "    \n",
    "#     mean = channels_sum / num_batches\n",
    "#     std = (channels_squared_sum / num_batches - mean ** 2) ** 0.5\n",
    "\n",
    "#     return mean, std"
   ]
  },
  {
   "cell_type": "code",
   "execution_count": null,
   "metadata": {},
   "outputs": [],
   "source": [
    "# base_dataset = UTKFaceDataset(dataset_path, 90, transform=transforms.Compose([\n",
    "#     transforms.ToTensor(),\n",
    "#     transforms.Resize(image_size),\n",
    "# ]))\n",
    "# base_dataloader = DataLoader(base_dataset, batch_size=64, shuffle=False)\n",
    "\n",
    "# n_samples = 0\n",
    "# mean = torch.zeros(3)\n",
    "# std = torch.zeros(3)\n",
    "\n",
    "# for data, _ in base_dataloader:\n",
    "#     # Rearrange batch to be the shape of [B, C, W * H]\n",
    "#     data = data.view(data.size(0), data.size(1), -1)\n",
    "#     # Update total number of images\n",
    "#     n_samples += data.size(0)\n",
    "#     # Compute mean and std here\n",
    "#     mean += data.mean(2).sum(0)\n",
    "#     std += data.std(2).sum(0) \n",
    "\n",
    "# # Final calculation\n",
    "# mean /= n_samples\n",
    "# std /= n_samples\n",
    "\n",
    "# print(f'mean: {mean}')\n",
    "# print(f'std: {std}')"
   ]
  },
  {
   "cell_type": "code",
   "execution_count": null,
   "metadata": {},
   "outputs": [],
   "source": [
    "def display_info(dataset, name):\n",
    "    ages = []\n",
    "\n",
    "    for i in range(len(dataset)):\n",
    "        _, age = dataset[i]\n",
    "        ages.append(age)\n",
    "\n",
    "    plt.title(f'{name} Ages Distribution')\n",
    "    plt.xlabel('Person Age')\n",
    "    plt.ylabel('Number of Images')\n",
    "    plt.hist(ages)\n",
    "    plt.show()"
   ]
  },
  {
   "cell_type": "code",
   "execution_count": null,
   "metadata": {},
   "outputs": [],
   "source": [
    "transfrom = transforms.Compose([\n",
    "    transforms.Resize(image_size),\n",
    "    transforms.RandomRotation(10),\n",
    "    transforms.RandomHorizontalFlip(),\n",
    "    transforms.ToTensor(),\n",
    "    # transforms.Normalize(mean=[0.5, 0.5, 0.5], std=[0.5, 0.5, 0.5]),\n",
    "    transforms.Normalize(mean=[0.5, 0.5, 0.5], std=[0.5, 0.5, 0.5]),\n",
    "])"
   ]
  },
  {
   "cell_type": "code",
   "execution_count": null,
   "metadata": {},
   "outputs": [],
   "source": [
    "dataset = UTKFaceDataset(dataset_path, max_age=90, transform=transfrom)"
   ]
  },
  {
   "cell_type": "code",
   "execution_count": null,
   "metadata": {},
   "outputs": [],
   "source": [
    "train_partition = 0.8\n",
    "valid_partition = 0.1\n",
    "test_partition = 0.1\n",
    "\n",
    "train_examples_num = int(len(dataset) * train_partition)\n",
    "valid_examples_num = int(len(dataset) * valid_partition)\n",
    "test_examples_num = len(dataset) - train_examples_num - valid_examples_num\n",
    "\n",
    "train_dataset, valid_dataset, test_dataset = random_split(\n",
    "    dataset,\n",
    "    [train_examples_num, valid_examples_num, test_examples_num],\n",
    "    generator=torch.Generator().manual_seed(42)\n",
    ")"
   ]
  },
  {
   "cell_type": "code",
   "execution_count": null,
   "metadata": {},
   "outputs": [],
   "source": [
    "# display_info(train_dataset, 'Train')\n",
    "# display_info(valid_dataset, 'Validation')\n",
    "# display_info(test_dataset, 'Test')"
   ]
  },
  {
   "cell_type": "code",
   "execution_count": null,
   "metadata": {},
   "outputs": [],
   "source": [
    "print(f'Number of training examples: {len(train_dataset)}')\n",
    "print(f'Number of validation examples: {len(valid_dataset)}')\n",
    "print(f'Number of testing examples: {len(test_dataset)}')"
   ]
  },
  {
   "cell_type": "code",
   "execution_count": null,
   "metadata": {},
   "outputs": [],
   "source": [
    "rows, columns = 2, 2\n",
    "\n",
    "def GetRandom(): return np.random.randint(0, len(train_dataset)-1)\n",
    "\n",
    "randomIndex = [GetRandom() for _ in range(rows * columns)]\n",
    "\n",
    "for i in range(rows * columns):\n",
    "    x, y = train_dataset[randomIndex[i]]\n",
    "    print(x)\n",
    "    print(y)\n",
    "    age_group_index = int(y.item())\n",
    "    age_group = dataset.ages[age_group_index]\n",
    "\n",
    "    plt.subplot(rows, columns, i + 1)\n",
    "    plt.title(f'Age: {age_group}')\n",
    "    plt.imshow(x.numpy().transpose((1, 2, 0)).clip(0, 1))\n",
    "    plt.axis('off')\n",
    "plt.show()"
   ]
  },
  {
   "cell_type": "code",
   "execution_count": null,
   "metadata": {},
   "outputs": [],
   "source": [
    "model = models.resnet18(weights=models.ResNet18_Weights.IMAGENET1K_V1)\n",
    "print(model)\n",
    "\n",
    "\n",
    "num_ftrs = model.fc.in_features\n",
    "print(num_ftrs)\n",
    "\n",
    "model.fc = nn.Linear(num_ftrs, len(dataset.ages) + 2)"
   ]
  },
  {
   "cell_type": "code",
   "execution_count": null,
   "metadata": {},
   "outputs": [],
   "source": [
    "model_name = 'resnet18_UTKFace'\n",
    "save_dir = '../temp'\n",
    "\n",
    "model_trainer = ModelTrainer(\n",
    "    batch_size=batch_size,\n",
    "    device=device,\n",
    "    learning_rate=learning_rate, \n",
    "    loss_fun=nn.CrossEntropyLoss(), \n",
    "    model_name=model_name, \n",
    "    model=model,\n",
    "    num_workers=0,\n",
    "    save_dir=save_dir,\n",
    ")"
   ]
  },
  {
   "cell_type": "code",
   "execution_count": null,
   "metadata": {},
   "outputs": [],
   "source": [
    "model_trainer.set_data(train_data=train_dataset, valid_data=valid_dataset, test_data=test_dataset)"
   ]
  },
  {
   "cell_type": "code",
   "execution_count": null,
   "metadata": {},
   "outputs": [],
   "source": [
    "params_num = 0\n",
    "for param in model_trainer.model.parameters():\n",
    "    params_num += param.flatten().shape[0]\n",
    "print(\"This model has %d (approximately %d Million) Parameters!\" % (params_num, params_num / 1e6))"
   ]
  },
  {
   "cell_type": "code",
   "execution_count": null,
   "metadata": {},
   "outputs": [],
   "source": [
    "start_time = time.time()\n",
    "valid_acc = 0\n",
    "train_acc = 0\n",
    "\n",
    "pbar = trange(start_epoch, num_epochs, leave=False, desc=\"Epoch\")    \n",
    "for epoch in pbar:\n",
    "    pbar.set_postfix_str('Accuracy: Train %.2f%%, Val %.2f%%' % (train_acc * 100, valid_acc * 100))\n",
    "    \n",
    "    model_trainer.train_model()\n",
    "    \n",
    "    train_acc = model_trainer.evaluate_model(train_test_val=\"train\")\n",
    "    valid_acc = model_trainer.evaluate_model(train_test_val=\"val\")\n",
    "    \n",
    "    if valid_acc > model_trainer.best_valid_acc:\n",
    "        model_trainer.save_checkpoint(epoch, valid_acc)\n",
    "\n",
    "end_time = time.time()"
   ]
  },
  {
   "cell_type": "code",
   "execution_count": null,
   "metadata": {},
   "outputs": [],
   "source": [
    "print(model_trainer.best_valid_acc)"
   ]
  }
 ],
 "metadata": {
  "kernelspec": {
   "display_name": ".venv",
   "language": "python",
   "name": "python3"
  },
  "language_info": {
   "codemirror_mode": {
    "name": "ipython",
    "version": 3
   },
   "file_extension": ".py",
   "mimetype": "text/x-python",
   "name": "python",
   "nbconvert_exporter": "python",
   "pygments_lexer": "ipython3",
   "version": "3.10.14"
  }
 },
 "nbformat": 4,
 "nbformat_minor": 2
}
