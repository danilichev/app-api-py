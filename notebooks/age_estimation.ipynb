{
 "cells": [
  {
   "cell_type": "code",
   "execution_count": null,
   "metadata": {},
   "outputs": [],
   "source": [
    "from mivolo.model.mi_volo import MiVOLO, prepare_classification_images\n",
    "import cv2\n",
    "import torch"
   ]
  },
  {
   "cell_type": "code",
   "execution_count": null,
   "metadata": {},
   "outputs": [],
   "source": [
    "gpu_indx = 0\n",
    "device = torch.device(gpu_indx if torch.cuda.is_available() else 'cpu')"
   ]
  },
  {
   "cell_type": "code",
   "execution_count": null,
   "metadata": {},
   "outputs": [],
   "source": [
    "mivolo_path = \"../temp/model_age_utk_4.23.pth.tar\""
   ]
  },
  {
   "cell_type": "code",
   "execution_count": null,
   "metadata": {},
   "outputs": [],
   "source": [
    "image = cv2.imread(\"../temp/ben_affleck_44_aligned.jpg\")\n",
    "image.shape"
   ]
  },
  {
   "cell_type": "code",
   "execution_count": null,
   "metadata": {},
   "outputs": [],
   "source": [
    "age_gender_model = MiVOLO(\n",
    "    mivolo_path,\n",
    "    device=device,\n",
    "    half=True,\n",
    "    use_persons=False,\n",
    "    verbose=True,\n",
    ")"
   ]
  },
  {
   "cell_type": "code",
   "execution_count": null,
   "metadata": {},
   "outputs": [],
   "source": [
    "face_input = prepare_classification_images(\n",
    "    [image],\n",
    "    age_gender_model.input_size,\n",
    "    age_gender_model.data_config[\"mean\"],\n",
    "    age_gender_model.data_config[\"std\"],\n",
    "    device=age_gender_model.device\n",
    ")"
   ]
  },
  {
   "cell_type": "code",
   "execution_count": null,
   "metadata": {},
   "outputs": [],
   "source": [
    "output = age_gender_model.inference(face_input)\n",
    "output.item()\n",
    "\n",
    "age = output.item()\n",
    "age = age * (age_gender_model.meta.max_age - age_gender_model.meta.min_age) + age_gender_model.meta.avg_age\n",
    "age = round(age)\n",
    "\n",
    "age\n"
   ]
  }
 ],
 "metadata": {
  "kernelspec": {
   "display_name": ".venv",
   "language": "python",
   "name": "python3"
  },
  "language_info": {
   "codemirror_mode": {
    "name": "ipython",
    "version": 3
   },
   "file_extension": ".py",
   "mimetype": "text/x-python",
   "name": "python",
   "nbconvert_exporter": "python",
   "pygments_lexer": "ipython3",
   "version": "3.10.14"
  }
 },
 "nbformat": 4,
 "nbformat_minor": 2
}
